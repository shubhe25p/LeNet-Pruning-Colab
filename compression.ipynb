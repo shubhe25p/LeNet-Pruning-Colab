{
  "nbformat": 4,
  "nbformat_minor": 0,
  "metadata": {
    "accelerator": "GPU",
    "colab": {
      "name": "compression.ipynb",
      "provenance": [],
      "collapsed_sections": [],
      "authorship_tag": "ABX9TyNAqNjZiguL1dOWZjoJJXVw",
      "include_colab_link": true
    },
    "kernelspec": {
      "display_name": "Python 3",
      "name": "python3"
    },
    "widgets": {
      "application/vnd.jupyter.widget-state+json": {
        "f46a8feb078745c5a3fa534d14abdcac": {
          "model_module": "@jupyter-widgets/controls",
          "model_name": "HBoxModel",
          "state": {
            "_view_name": "HBoxView",
            "_dom_classes": [],
            "_model_name": "HBoxModel",
            "_view_module": "@jupyter-widgets/controls",
            "_model_module_version": "1.5.0",
            "_view_count": null,
            "_view_module_version": "1.5.0",
            "box_style": "",
            "layout": "IPY_MODEL_37402a3507d14af2aae64ea0cf939cc8",
            "_model_module": "@jupyter-widgets/controls",
            "children": [
              "IPY_MODEL_14172b7fb962457e8135f59ccc330672",
              "IPY_MODEL_fc56288c6e374d96903cfdfe26ee7fe4"
            ]
          }
        },
        "37402a3507d14af2aae64ea0cf939cc8": {
          "model_module": "@jupyter-widgets/base",
          "model_name": "LayoutModel",
          "state": {
            "_view_name": "LayoutView",
            "grid_template_rows": null,
            "right": null,
            "justify_content": null,
            "_view_module": "@jupyter-widgets/base",
            "overflow": null,
            "_model_module_version": "1.2.0",
            "_view_count": null,
            "flex_flow": null,
            "width": null,
            "min_width": null,
            "border": null,
            "align_items": null,
            "bottom": null,
            "_model_module": "@jupyter-widgets/base",
            "top": null,
            "grid_column": null,
            "overflow_y": null,
            "overflow_x": null,
            "grid_auto_flow": null,
            "grid_area": null,
            "grid_template_columns": null,
            "flex": null,
            "_model_name": "LayoutModel",
            "justify_items": null,
            "grid_row": null,
            "max_height": null,
            "align_content": null,
            "visibility": null,
            "align_self": null,
            "height": null,
            "min_height": null,
            "padding": null,
            "grid_auto_rows": null,
            "grid_gap": null,
            "max_width": null,
            "order": null,
            "_view_module_version": "1.2.0",
            "grid_template_areas": null,
            "object_position": null,
            "object_fit": null,
            "grid_auto_columns": null,
            "margin": null,
            "display": null,
            "left": null
          }
        },
        "14172b7fb962457e8135f59ccc330672": {
          "model_module": "@jupyter-widgets/controls",
          "model_name": "FloatProgressModel",
          "state": {
            "_view_name": "ProgressView",
            "style": "IPY_MODEL_b84bb21d9ae746cba7988c3b79e0292c",
            "_dom_classes": [],
            "description": "",
            "_model_name": "FloatProgressModel",
            "bar_style": "info",
            "max": 1,
            "_view_module": "@jupyter-widgets/controls",
            "_model_module_version": "1.5.0",
            "value": 1,
            "_view_count": null,
            "_view_module_version": "1.5.0",
            "orientation": "horizontal",
            "min": 0,
            "description_tooltip": null,
            "_model_module": "@jupyter-widgets/controls",
            "layout": "IPY_MODEL_dce846fcbe124184b26e76474e6fa279"
          }
        },
        "fc56288c6e374d96903cfdfe26ee7fe4": {
          "model_module": "@jupyter-widgets/controls",
          "model_name": "HTMLModel",
          "state": {
            "_view_name": "HTMLView",
            "style": "IPY_MODEL_3b3acb4f3b254bdf816553c71aeb6048",
            "_dom_classes": [],
            "description": "",
            "_model_name": "HTMLModel",
            "placeholder": "​",
            "_view_module": "@jupyter-widgets/controls",
            "_model_module_version": "1.5.0",
            "value": " 9920512/? [00:20&lt;00:00, 172395.22it/s]",
            "_view_count": null,
            "_view_module_version": "1.5.0",
            "description_tooltip": null,
            "_model_module": "@jupyter-widgets/controls",
            "layout": "IPY_MODEL_52df885466a648748a7857839e4aba93"
          }
        },
        "b84bb21d9ae746cba7988c3b79e0292c": {
          "model_module": "@jupyter-widgets/controls",
          "model_name": "ProgressStyleModel",
          "state": {
            "_view_name": "StyleView",
            "_model_name": "ProgressStyleModel",
            "description_width": "initial",
            "_view_module": "@jupyter-widgets/base",
            "_model_module_version": "1.5.0",
            "_view_count": null,
            "_view_module_version": "1.2.0",
            "bar_color": null,
            "_model_module": "@jupyter-widgets/controls"
          }
        },
        "dce846fcbe124184b26e76474e6fa279": {
          "model_module": "@jupyter-widgets/base",
          "model_name": "LayoutModel",
          "state": {
            "_view_name": "LayoutView",
            "grid_template_rows": null,
            "right": null,
            "justify_content": null,
            "_view_module": "@jupyter-widgets/base",
            "overflow": null,
            "_model_module_version": "1.2.0",
            "_view_count": null,
            "flex_flow": null,
            "width": null,
            "min_width": null,
            "border": null,
            "align_items": null,
            "bottom": null,
            "_model_module": "@jupyter-widgets/base",
            "top": null,
            "grid_column": null,
            "overflow_y": null,
            "overflow_x": null,
            "grid_auto_flow": null,
            "grid_area": null,
            "grid_template_columns": null,
            "flex": null,
            "_model_name": "LayoutModel",
            "justify_items": null,
            "grid_row": null,
            "max_height": null,
            "align_content": null,
            "visibility": null,
            "align_self": null,
            "height": null,
            "min_height": null,
            "padding": null,
            "grid_auto_rows": null,
            "grid_gap": null,
            "max_width": null,
            "order": null,
            "_view_module_version": "1.2.0",
            "grid_template_areas": null,
            "object_position": null,
            "object_fit": null,
            "grid_auto_columns": null,
            "margin": null,
            "display": null,
            "left": null
          }
        },
        "3b3acb4f3b254bdf816553c71aeb6048": {
          "model_module": "@jupyter-widgets/controls",
          "model_name": "DescriptionStyleModel",
          "state": {
            "_view_name": "StyleView",
            "_model_name": "DescriptionStyleModel",
            "description_width": "",
            "_view_module": "@jupyter-widgets/base",
            "_model_module_version": "1.5.0",
            "_view_count": null,
            "_view_module_version": "1.2.0",
            "_model_module": "@jupyter-widgets/controls"
          }
        },
        "52df885466a648748a7857839e4aba93": {
          "model_module": "@jupyter-widgets/base",
          "model_name": "LayoutModel",
          "state": {
            "_view_name": "LayoutView",
            "grid_template_rows": null,
            "right": null,
            "justify_content": null,
            "_view_module": "@jupyter-widgets/base",
            "overflow": null,
            "_model_module_version": "1.2.0",
            "_view_count": null,
            "flex_flow": null,
            "width": null,
            "min_width": null,
            "border": null,
            "align_items": null,
            "bottom": null,
            "_model_module": "@jupyter-widgets/base",
            "top": null,
            "grid_column": null,
            "overflow_y": null,
            "overflow_x": null,
            "grid_auto_flow": null,
            "grid_area": null,
            "grid_template_columns": null,
            "flex": null,
            "_model_name": "LayoutModel",
            "justify_items": null,
            "grid_row": null,
            "max_height": null,
            "align_content": null,
            "visibility": null,
            "align_self": null,
            "height": null,
            "min_height": null,
            "padding": null,
            "grid_auto_rows": null,
            "grid_gap": null,
            "max_width": null,
            "order": null,
            "_view_module_version": "1.2.0",
            "grid_template_areas": null,
            "object_position": null,
            "object_fit": null,
            "grid_auto_columns": null,
            "margin": null,
            "display": null,
            "left": null
          }
        },
        "d0cbec2e23be480aa6950d0c192010bd": {
          "model_module": "@jupyter-widgets/controls",
          "model_name": "HBoxModel",
          "state": {
            "_view_name": "HBoxView",
            "_dom_classes": [],
            "_model_name": "HBoxModel",
            "_view_module": "@jupyter-widgets/controls",
            "_model_module_version": "1.5.0",
            "_view_count": null,
            "_view_module_version": "1.5.0",
            "box_style": "",
            "layout": "IPY_MODEL_88787b10263049d98ce2f2d31144cc20",
            "_model_module": "@jupyter-widgets/controls",
            "children": [
              "IPY_MODEL_d63257d7aa1e4961b7b7249f0a98a1ba",
              "IPY_MODEL_7a2308b178a340a6880f5a3e1bc93c73"
            ]
          }
        },
        "88787b10263049d98ce2f2d31144cc20": {
          "model_module": "@jupyter-widgets/base",
          "model_name": "LayoutModel",
          "state": {
            "_view_name": "LayoutView",
            "grid_template_rows": null,
            "right": null,
            "justify_content": null,
            "_view_module": "@jupyter-widgets/base",
            "overflow": null,
            "_model_module_version": "1.2.0",
            "_view_count": null,
            "flex_flow": null,
            "width": null,
            "min_width": null,
            "border": null,
            "align_items": null,
            "bottom": null,
            "_model_module": "@jupyter-widgets/base",
            "top": null,
            "grid_column": null,
            "overflow_y": null,
            "overflow_x": null,
            "grid_auto_flow": null,
            "grid_area": null,
            "grid_template_columns": null,
            "flex": null,
            "_model_name": "LayoutModel",
            "justify_items": null,
            "grid_row": null,
            "max_height": null,
            "align_content": null,
            "visibility": null,
            "align_self": null,
            "height": null,
            "min_height": null,
            "padding": null,
            "grid_auto_rows": null,
            "grid_gap": null,
            "max_width": null,
            "order": null,
            "_view_module_version": "1.2.0",
            "grid_template_areas": null,
            "object_position": null,
            "object_fit": null,
            "grid_auto_columns": null,
            "margin": null,
            "display": null,
            "left": null
          }
        },
        "d63257d7aa1e4961b7b7249f0a98a1ba": {
          "model_module": "@jupyter-widgets/controls",
          "model_name": "FloatProgressModel",
          "state": {
            "_view_name": "ProgressView",
            "style": "IPY_MODEL_73e03bdce5014a23984f06b0c8f6f82f",
            "_dom_classes": [],
            "description": "",
            "_model_name": "FloatProgressModel",
            "bar_style": "success",
            "max": 1,
            "_view_module": "@jupyter-widgets/controls",
            "_model_module_version": "1.5.0",
            "value": 1,
            "_view_count": null,
            "_view_module_version": "1.5.0",
            "orientation": "horizontal",
            "min": 0,
            "description_tooltip": null,
            "_model_module": "@jupyter-widgets/controls",
            "layout": "IPY_MODEL_ba48a8f9e9124ff1865459dfa610f4cf"
          }
        },
        "7a2308b178a340a6880f5a3e1bc93c73": {
          "model_module": "@jupyter-widgets/controls",
          "model_name": "HTMLModel",
          "state": {
            "_view_name": "HTMLView",
            "style": "IPY_MODEL_0258d732bf11414f8fad2f42071f9688",
            "_dom_classes": [],
            "description": "",
            "_model_name": "HTMLModel",
            "placeholder": "​",
            "_view_module": "@jupyter-widgets/controls",
            "_model_module_version": "1.5.0",
            "value": " 32768/? [00:05&lt;00:00, 5924.54it/s]",
            "_view_count": null,
            "_view_module_version": "1.5.0",
            "description_tooltip": null,
            "_model_module": "@jupyter-widgets/controls",
            "layout": "IPY_MODEL_31279ccb38ab44a7aee806fa38efd1dc"
          }
        },
        "73e03bdce5014a23984f06b0c8f6f82f": {
          "model_module": "@jupyter-widgets/controls",
          "model_name": "ProgressStyleModel",
          "state": {
            "_view_name": "StyleView",
            "_model_name": "ProgressStyleModel",
            "description_width": "initial",
            "_view_module": "@jupyter-widgets/base",
            "_model_module_version": "1.5.0",
            "_view_count": null,
            "_view_module_version": "1.2.0",
            "bar_color": null,
            "_model_module": "@jupyter-widgets/controls"
          }
        },
        "ba48a8f9e9124ff1865459dfa610f4cf": {
          "model_module": "@jupyter-widgets/base",
          "model_name": "LayoutModel",
          "state": {
            "_view_name": "LayoutView",
            "grid_template_rows": null,
            "right": null,
            "justify_content": null,
            "_view_module": "@jupyter-widgets/base",
            "overflow": null,
            "_model_module_version": "1.2.0",
            "_view_count": null,
            "flex_flow": null,
            "width": null,
            "min_width": null,
            "border": null,
            "align_items": null,
            "bottom": null,
            "_model_module": "@jupyter-widgets/base",
            "top": null,
            "grid_column": null,
            "overflow_y": null,
            "overflow_x": null,
            "grid_auto_flow": null,
            "grid_area": null,
            "grid_template_columns": null,
            "flex": null,
            "_model_name": "LayoutModel",
            "justify_items": null,
            "grid_row": null,
            "max_height": null,
            "align_content": null,
            "visibility": null,
            "align_self": null,
            "height": null,
            "min_height": null,
            "padding": null,
            "grid_auto_rows": null,
            "grid_gap": null,
            "max_width": null,
            "order": null,
            "_view_module_version": "1.2.0",
            "grid_template_areas": null,
            "object_position": null,
            "object_fit": null,
            "grid_auto_columns": null,
            "margin": null,
            "display": null,
            "left": null
          }
        },
        "0258d732bf11414f8fad2f42071f9688": {
          "model_module": "@jupyter-widgets/controls",
          "model_name": "DescriptionStyleModel",
          "state": {
            "_view_name": "StyleView",
            "_model_name": "DescriptionStyleModel",
            "description_width": "",
            "_view_module": "@jupyter-widgets/base",
            "_model_module_version": "1.5.0",
            "_view_count": null,
            "_view_module_version": "1.2.0",
            "_model_module": "@jupyter-widgets/controls"
          }
        },
        "31279ccb38ab44a7aee806fa38efd1dc": {
          "model_module": "@jupyter-widgets/base",
          "model_name": "LayoutModel",
          "state": {
            "_view_name": "LayoutView",
            "grid_template_rows": null,
            "right": null,
            "justify_content": null,
            "_view_module": "@jupyter-widgets/base",
            "overflow": null,
            "_model_module_version": "1.2.0",
            "_view_count": null,
            "flex_flow": null,
            "width": null,
            "min_width": null,
            "border": null,
            "align_items": null,
            "bottom": null,
            "_model_module": "@jupyter-widgets/base",
            "top": null,
            "grid_column": null,
            "overflow_y": null,
            "overflow_x": null,
            "grid_auto_flow": null,
            "grid_area": null,
            "grid_template_columns": null,
            "flex": null,
            "_model_name": "LayoutModel",
            "justify_items": null,
            "grid_row": null,
            "max_height": null,
            "align_content": null,
            "visibility": null,
            "align_self": null,
            "height": null,
            "min_height": null,
            "padding": null,
            "grid_auto_rows": null,
            "grid_gap": null,
            "max_width": null,
            "order": null,
            "_view_module_version": "1.2.0",
            "grid_template_areas": null,
            "object_position": null,
            "object_fit": null,
            "grid_auto_columns": null,
            "margin": null,
            "display": null,
            "left": null
          }
        },
        "99cbbeae3a73430e856163b106bf399b": {
          "model_module": "@jupyter-widgets/controls",
          "model_name": "HBoxModel",
          "state": {
            "_view_name": "HBoxView",
            "_dom_classes": [],
            "_model_name": "HBoxModel",
            "_view_module": "@jupyter-widgets/controls",
            "_model_module_version": "1.5.0",
            "_view_count": null,
            "_view_module_version": "1.5.0",
            "box_style": "",
            "layout": "IPY_MODEL_bb271fbb0e9e492ea288d5ff33a1e51a",
            "_model_module": "@jupyter-widgets/controls",
            "children": [
              "IPY_MODEL_3b173b78a5664164a50fae8c5085e246",
              "IPY_MODEL_1804cc01f5324a759816c10df73826d1"
            ]
          }
        },
        "bb271fbb0e9e492ea288d5ff33a1e51a": {
          "model_module": "@jupyter-widgets/base",
          "model_name": "LayoutModel",
          "state": {
            "_view_name": "LayoutView",
            "grid_template_rows": null,
            "right": null,
            "justify_content": null,
            "_view_module": "@jupyter-widgets/base",
            "overflow": null,
            "_model_module_version": "1.2.0",
            "_view_count": null,
            "flex_flow": null,
            "width": null,
            "min_width": null,
            "border": null,
            "align_items": null,
            "bottom": null,
            "_model_module": "@jupyter-widgets/base",
            "top": null,
            "grid_column": null,
            "overflow_y": null,
            "overflow_x": null,
            "grid_auto_flow": null,
            "grid_area": null,
            "grid_template_columns": null,
            "flex": null,
            "_model_name": "LayoutModel",
            "justify_items": null,
            "grid_row": null,
            "max_height": null,
            "align_content": null,
            "visibility": null,
            "align_self": null,
            "height": null,
            "min_height": null,
            "padding": null,
            "grid_auto_rows": null,
            "grid_gap": null,
            "max_width": null,
            "order": null,
            "_view_module_version": "1.2.0",
            "grid_template_areas": null,
            "object_position": null,
            "object_fit": null,
            "grid_auto_columns": null,
            "margin": null,
            "display": null,
            "left": null
          }
        },
        "3b173b78a5664164a50fae8c5085e246": {
          "model_module": "@jupyter-widgets/controls",
          "model_name": "FloatProgressModel",
          "state": {
            "_view_name": "ProgressView",
            "style": "IPY_MODEL_254fabb6e0354536ab12bbaa34fe1b91",
            "_dom_classes": [],
            "description": "",
            "_model_name": "FloatProgressModel",
            "bar_style": "success",
            "max": 1,
            "_view_module": "@jupyter-widgets/controls",
            "_model_module_version": "1.5.0",
            "value": 1,
            "_view_count": null,
            "_view_module_version": "1.5.0",
            "orientation": "horizontal",
            "min": 0,
            "description_tooltip": null,
            "_model_module": "@jupyter-widgets/controls",
            "layout": "IPY_MODEL_8c0387307a6d49c6b1f91275514ee75e"
          }
        },
        "1804cc01f5324a759816c10df73826d1": {
          "model_module": "@jupyter-widgets/controls",
          "model_name": "HTMLModel",
          "state": {
            "_view_name": "HTMLView",
            "style": "IPY_MODEL_463f6e9077144cd1b94608862f98f623",
            "_dom_classes": [],
            "description": "",
            "_model_name": "HTMLModel",
            "placeholder": "​",
            "_view_module": "@jupyter-widgets/controls",
            "_model_module_version": "1.5.0",
            "value": " 1654784/? [00:05&lt;00:00, 303923.78it/s]",
            "_view_count": null,
            "_view_module_version": "1.5.0",
            "description_tooltip": null,
            "_model_module": "@jupyter-widgets/controls",
            "layout": "IPY_MODEL_813405e61021430fbd8c2d7163e774c4"
          }
        },
        "254fabb6e0354536ab12bbaa34fe1b91": {
          "model_module": "@jupyter-widgets/controls",
          "model_name": "ProgressStyleModel",
          "state": {
            "_view_name": "StyleView",
            "_model_name": "ProgressStyleModel",
            "description_width": "initial",
            "_view_module": "@jupyter-widgets/base",
            "_model_module_version": "1.5.0",
            "_view_count": null,
            "_view_module_version": "1.2.0",
            "bar_color": null,
            "_model_module": "@jupyter-widgets/controls"
          }
        },
        "8c0387307a6d49c6b1f91275514ee75e": {
          "model_module": "@jupyter-widgets/base",
          "model_name": "LayoutModel",
          "state": {
            "_view_name": "LayoutView",
            "grid_template_rows": null,
            "right": null,
            "justify_content": null,
            "_view_module": "@jupyter-widgets/base",
            "overflow": null,
            "_model_module_version": "1.2.0",
            "_view_count": null,
            "flex_flow": null,
            "width": null,
            "min_width": null,
            "border": null,
            "align_items": null,
            "bottom": null,
            "_model_module": "@jupyter-widgets/base",
            "top": null,
            "grid_column": null,
            "overflow_y": null,
            "overflow_x": null,
            "grid_auto_flow": null,
            "grid_area": null,
            "grid_template_columns": null,
            "flex": null,
            "_model_name": "LayoutModel",
            "justify_items": null,
            "grid_row": null,
            "max_height": null,
            "align_content": null,
            "visibility": null,
            "align_self": null,
            "height": null,
            "min_height": null,
            "padding": null,
            "grid_auto_rows": null,
            "grid_gap": null,
            "max_width": null,
            "order": null,
            "_view_module_version": "1.2.0",
            "grid_template_areas": null,
            "object_position": null,
            "object_fit": null,
            "grid_auto_columns": null,
            "margin": null,
            "display": null,
            "left": null
          }
        },
        "463f6e9077144cd1b94608862f98f623": {
          "model_module": "@jupyter-widgets/controls",
          "model_name": "DescriptionStyleModel",
          "state": {
            "_view_name": "StyleView",
            "_model_name": "DescriptionStyleModel",
            "description_width": "",
            "_view_module": "@jupyter-widgets/base",
            "_model_module_version": "1.5.0",
            "_view_count": null,
            "_view_module_version": "1.2.0",
            "_model_module": "@jupyter-widgets/controls"
          }
        },
        "813405e61021430fbd8c2d7163e774c4": {
          "model_module": "@jupyter-widgets/base",
          "model_name": "LayoutModel",
          "state": {
            "_view_name": "LayoutView",
            "grid_template_rows": null,
            "right": null,
            "justify_content": null,
            "_view_module": "@jupyter-widgets/base",
            "overflow": null,
            "_model_module_version": "1.2.0",
            "_view_count": null,
            "flex_flow": null,
            "width": null,
            "min_width": null,
            "border": null,
            "align_items": null,
            "bottom": null,
            "_model_module": "@jupyter-widgets/base",
            "top": null,
            "grid_column": null,
            "overflow_y": null,
            "overflow_x": null,
            "grid_auto_flow": null,
            "grid_area": null,
            "grid_template_columns": null,
            "flex": null,
            "_model_name": "LayoutModel",
            "justify_items": null,
            "grid_row": null,
            "max_height": null,
            "align_content": null,
            "visibility": null,
            "align_self": null,
            "height": null,
            "min_height": null,
            "padding": null,
            "grid_auto_rows": null,
            "grid_gap": null,
            "max_width": null,
            "order": null,
            "_view_module_version": "1.2.0",
            "grid_template_areas": null,
            "object_position": null,
            "object_fit": null,
            "grid_auto_columns": null,
            "margin": null,
            "display": null,
            "left": null
          }
        },
        "4ff1c1c5d5874ef8a0637a626eb305f7": {
          "model_module": "@jupyter-widgets/controls",
          "model_name": "HBoxModel",
          "state": {
            "_view_name": "HBoxView",
            "_dom_classes": [],
            "_model_name": "HBoxModel",
            "_view_module": "@jupyter-widgets/controls",
            "_model_module_version": "1.5.0",
            "_view_count": null,
            "_view_module_version": "1.5.0",
            "box_style": "",
            "layout": "IPY_MODEL_fde768283f8848b2b2fd97b39edca7c3",
            "_model_module": "@jupyter-widgets/controls",
            "children": [
              "IPY_MODEL_b58c283356c24f6abacd8f4e55a337be",
              "IPY_MODEL_e333b5b8c8b241768ac6414e5fab71c6"
            ]
          }
        },
        "fde768283f8848b2b2fd97b39edca7c3": {
          "model_module": "@jupyter-widgets/base",
          "model_name": "LayoutModel",
          "state": {
            "_view_name": "LayoutView",
            "grid_template_rows": null,
            "right": null,
            "justify_content": null,
            "_view_module": "@jupyter-widgets/base",
            "overflow": null,
            "_model_module_version": "1.2.0",
            "_view_count": null,
            "flex_flow": null,
            "width": null,
            "min_width": null,
            "border": null,
            "align_items": null,
            "bottom": null,
            "_model_module": "@jupyter-widgets/base",
            "top": null,
            "grid_column": null,
            "overflow_y": null,
            "overflow_x": null,
            "grid_auto_flow": null,
            "grid_area": null,
            "grid_template_columns": null,
            "flex": null,
            "_model_name": "LayoutModel",
            "justify_items": null,
            "grid_row": null,
            "max_height": null,
            "align_content": null,
            "visibility": null,
            "align_self": null,
            "height": null,
            "min_height": null,
            "padding": null,
            "grid_auto_rows": null,
            "grid_gap": null,
            "max_width": null,
            "order": null,
            "_view_module_version": "1.2.0",
            "grid_template_areas": null,
            "object_position": null,
            "object_fit": null,
            "grid_auto_columns": null,
            "margin": null,
            "display": null,
            "left": null
          }
        },
        "b58c283356c24f6abacd8f4e55a337be": {
          "model_module": "@jupyter-widgets/controls",
          "model_name": "FloatProgressModel",
          "state": {
            "_view_name": "ProgressView",
            "style": "IPY_MODEL_a72a08e7e8b141adb8d93fc7942c12e2",
            "_dom_classes": [],
            "description": "",
            "_model_name": "FloatProgressModel",
            "bar_style": "success",
            "max": 1,
            "_view_module": "@jupyter-widgets/controls",
            "_model_module_version": "1.5.0",
            "value": 1,
            "_view_count": null,
            "_view_module_version": "1.5.0",
            "orientation": "horizontal",
            "min": 0,
            "description_tooltip": null,
            "_model_module": "@jupyter-widgets/controls",
            "layout": "IPY_MODEL_fd737fe95d2540b68e4106c9e5fc078c"
          }
        },
        "e333b5b8c8b241768ac6414e5fab71c6": {
          "model_module": "@jupyter-widgets/controls",
          "model_name": "HTMLModel",
          "state": {
            "_view_name": "HTMLView",
            "style": "IPY_MODEL_575b6783b2d3484198aab08ea92a67ad",
            "_dom_classes": [],
            "description": "",
            "_model_name": "HTMLModel",
            "placeholder": "​",
            "_view_module": "@jupyter-widgets/controls",
            "_model_module_version": "1.5.0",
            "value": " 8192/? [00:05&lt;00:00, 1571.08it/s]",
            "_view_count": null,
            "_view_module_version": "1.5.0",
            "description_tooltip": null,
            "_model_module": "@jupyter-widgets/controls",
            "layout": "IPY_MODEL_8660e7c6915046c2b9eb959fea9f33b2"
          }
        },
        "a72a08e7e8b141adb8d93fc7942c12e2": {
          "model_module": "@jupyter-widgets/controls",
          "model_name": "ProgressStyleModel",
          "state": {
            "_view_name": "StyleView",
            "_model_name": "ProgressStyleModel",
            "description_width": "initial",
            "_view_module": "@jupyter-widgets/base",
            "_model_module_version": "1.5.0",
            "_view_count": null,
            "_view_module_version": "1.2.0",
            "bar_color": null,
            "_model_module": "@jupyter-widgets/controls"
          }
        },
        "fd737fe95d2540b68e4106c9e5fc078c": {
          "model_module": "@jupyter-widgets/base",
          "model_name": "LayoutModel",
          "state": {
            "_view_name": "LayoutView",
            "grid_template_rows": null,
            "right": null,
            "justify_content": null,
            "_view_module": "@jupyter-widgets/base",
            "overflow": null,
            "_model_module_version": "1.2.0",
            "_view_count": null,
            "flex_flow": null,
            "width": null,
            "min_width": null,
            "border": null,
            "align_items": null,
            "bottom": null,
            "_model_module": "@jupyter-widgets/base",
            "top": null,
            "grid_column": null,
            "overflow_y": null,
            "overflow_x": null,
            "grid_auto_flow": null,
            "grid_area": null,
            "grid_template_columns": null,
            "flex": null,
            "_model_name": "LayoutModel",
            "justify_items": null,
            "grid_row": null,
            "max_height": null,
            "align_content": null,
            "visibility": null,
            "align_self": null,
            "height": null,
            "min_height": null,
            "padding": null,
            "grid_auto_rows": null,
            "grid_gap": null,
            "max_width": null,
            "order": null,
            "_view_module_version": "1.2.0",
            "grid_template_areas": null,
            "object_position": null,
            "object_fit": null,
            "grid_auto_columns": null,
            "margin": null,
            "display": null,
            "left": null
          }
        },
        "575b6783b2d3484198aab08ea92a67ad": {
          "model_module": "@jupyter-widgets/controls",
          "model_name": "DescriptionStyleModel",
          "state": {
            "_view_name": "StyleView",
            "_model_name": "DescriptionStyleModel",
            "description_width": "",
            "_view_module": "@jupyter-widgets/base",
            "_model_module_version": "1.5.0",
            "_view_count": null,
            "_view_module_version": "1.2.0",
            "_model_module": "@jupyter-widgets/controls"
          }
        },
        "8660e7c6915046c2b9eb959fea9f33b2": {
          "model_module": "@jupyter-widgets/base",
          "model_name": "LayoutModel",
          "state": {
            "_view_name": "LayoutView",
            "grid_template_rows": null,
            "right": null,
            "justify_content": null,
            "_view_module": "@jupyter-widgets/base",
            "overflow": null,
            "_model_module_version": "1.2.0",
            "_view_count": null,
            "flex_flow": null,
            "width": null,
            "min_width": null,
            "border": null,
            "align_items": null,
            "bottom": null,
            "_model_module": "@jupyter-widgets/base",
            "top": null,
            "grid_column": null,
            "overflow_y": null,
            "overflow_x": null,
            "grid_auto_flow": null,
            "grid_area": null,
            "grid_template_columns": null,
            "flex": null,
            "_model_name": "LayoutModel",
            "justify_items": null,
            "grid_row": null,
            "max_height": null,
            "align_content": null,
            "visibility": null,
            "align_self": null,
            "height": null,
            "min_height": null,
            "padding": null,
            "grid_auto_rows": null,
            "grid_gap": null,
            "max_width": null,
            "order": null,
            "_view_module_version": "1.2.0",
            "grid_template_areas": null,
            "object_position": null,
            "object_fit": null,
            "grid_auto_columns": null,
            "margin": null,
            "display": null,
            "left": null
          }
        }
      }
    }
  },
  "cells": [
    {
      "cell_type": "markdown",
      "metadata": {
        "id": "view-in-github",
        "colab_type": "text"
      },
      "source": [
        "<a href=\"https://colab.research.google.com/github/shubhe25p/LeNet-Pruning-Colab/blob/master/compression.ipynb\" target=\"_parent\"><img src=\"https://colab.research.google.com/assets/colab-badge.svg\" alt=\"Open In Colab\"/></a>"
      ]
    },
    {
      "cell_type": "code",
      "metadata": {
        "id": "QTjmiPoO1zGX"
      },
      "source": [
        "import os\r\n",
        "import numpy as np\r\n",
        "import torch\r\n",
        "import torch.nn as nn\r\n",
        "import torch.nn.functional as F\r\n",
        "import torch.optim as optim\r\n",
        "from torchvision import datasets, transforms\r\n",
        "from tqdm import tqdm\r\n",
        "from torch.nn import Parameter\r\n",
        "from torch.nn.modules.module import Module\r\n",
        "import math\r\n",
        "from sklearn.cluster import KMeans\r\n",
        "from scipy.sparse import csc_matrix, csr_matrix\r\n",
        "from collections import defaultdict, namedtuple\r\n",
        "from heapq import heappush, heappop, heapify\r\n",
        "import struct\r\n",
        "from pathlib import Path\r\n",
        "from scipy.sparse import csr_matrix, csc_matrix"
      ],
      "execution_count": null,
      "outputs": []
    },
    {
      "cell_type": "code",
      "metadata": {
        "colab": {
          "base_uri": "https://localhost:8080/"
        },
        "id": "Fp8AVZ512Bxw",
        "outputId": "b35984fc-0f7f-42bf-bd4e-475c8529cd8b"
      },
      "source": [
        "args={\r\n",
        "    \"batch-size\":50,\r\n",
        "    \"test-batch-size\":1000,\r\n",
        "    \"epochs\":100,\r\n",
        "    \"lr\":0.01,\r\n",
        "    \"seed\":42,\r\n",
        "    \"log-interval\":10,\r\n",
        "    \"log\":\"log.txt\",\r\n",
        "    \"sensitivity\":2,\r\n",
        "    \"no_cuda\":False\r\n",
        "}\r\n",
        "args[\"batch-size\"]"
      ],
      "execution_count": null,
      "outputs": [
        {
          "output_type": "execute_result",
          "data": {
            "text/plain": [
              "50"
            ]
          },
          "metadata": {
            "tags": []
          },
          "execution_count": 4
        }
      ]
    },
    {
      "cell_type": "code",
      "metadata": {
        "colab": {
          "base_uri": "https://localhost:8080/"
        },
        "id": "8q3YLbaS3VhK",
        "outputId": "7cb58b90-6906-40a7-b89f-f686d323e386"
      },
      "source": [
        "torch.manual_seed(args[\"seed\"])\r\n",
        "use_cuda = not args[\"no_cuda\"] and torch.cuda.is_available()\r\n",
        "device = torch.device(\"cuda\" if use_cuda else 'cpu')\r\n",
        "if use_cuda:\r\n",
        "    print(\"Yes CUDA!\")\r\n",
        "    torch.cuda.manual_seed(args[\"seed\"])\r\n",
        "else:\r\n",
        "    print('No CUDA!!!')\r\n"
      ],
      "execution_count": null,
      "outputs": [
        {
          "output_type": "stream",
          "text": [
            "Yes CUDA!\n"
          ],
          "name": "stdout"
        }
      ]
    },
    {
      "cell_type": "code",
      "metadata": {
        "colab": {
          "base_uri": "https://localhost:8080/"
        },
        "id": "FkuTMb4d46i1",
        "outputId": "89d554d6-fd11-4958-d2a0-eefc279a3d96"
      },
      "source": [
        "from google.colab import drive\r\n",
        "drive.mount('/content/gdrive')"
      ],
      "execution_count": null,
      "outputs": [
        {
          "output_type": "stream",
          "text": [
            "Mounted at /content/gdrive\n"
          ],
          "name": "stdout"
        }
      ]
    },
    {
      "cell_type": "code",
      "metadata": {
        "id": "pdabxeA85L4f",
        "colab": {
          "base_uri": "https://localhost:8080/"
        },
        "outputId": "510aa1ed-29b6-4231-fcbc-3de2c18a8b93"
      },
      "source": [
        "import os\r\n",
        "os.chdir('gdrive/My Drive/kaggle/self_compress') \r\n",
        "!ls"
      ],
      "execution_count": null,
      "outputs": [
        {
          "output_type": "stream",
          "text": [
            "huffmancoding.py\n"
          ],
          "name": "stdout"
        }
      ]
    },
    {
      "cell_type": "code",
      "metadata": {
        "colab": {
          "base_uri": "https://localhost:8080/",
          "height": 366,
          "referenced_widgets": [
            "f46a8feb078745c5a3fa534d14abdcac",
            "37402a3507d14af2aae64ea0cf939cc8",
            "14172b7fb962457e8135f59ccc330672",
            "fc56288c6e374d96903cfdfe26ee7fe4",
            "b84bb21d9ae746cba7988c3b79e0292c",
            "dce846fcbe124184b26e76474e6fa279",
            "3b3acb4f3b254bdf816553c71aeb6048",
            "52df885466a648748a7857839e4aba93",
            "d0cbec2e23be480aa6950d0c192010bd",
            "88787b10263049d98ce2f2d31144cc20",
            "d63257d7aa1e4961b7b7249f0a98a1ba",
            "7a2308b178a340a6880f5a3e1bc93c73",
            "73e03bdce5014a23984f06b0c8f6f82f",
            "ba48a8f9e9124ff1865459dfa610f4cf",
            "0258d732bf11414f8fad2f42071f9688",
            "31279ccb38ab44a7aee806fa38efd1dc",
            "99cbbeae3a73430e856163b106bf399b",
            "bb271fbb0e9e492ea288d5ff33a1e51a",
            "3b173b78a5664164a50fae8c5085e246",
            "1804cc01f5324a759816c10df73826d1",
            "254fabb6e0354536ab12bbaa34fe1b91",
            "8c0387307a6d49c6b1f91275514ee75e",
            "463f6e9077144cd1b94608862f98f623",
            "813405e61021430fbd8c2d7163e774c4",
            "4ff1c1c5d5874ef8a0637a626eb305f7",
            "fde768283f8848b2b2fd97b39edca7c3",
            "b58c283356c24f6abacd8f4e55a337be",
            "e333b5b8c8b241768ac6414e5fab71c6",
            "a72a08e7e8b141adb8d93fc7942c12e2",
            "fd737fe95d2540b68e4106c9e5fc078c",
            "575b6783b2d3484198aab08ea92a67ad",
            "8660e7c6915046c2b9eb959fea9f33b2"
          ]
        },
        "id": "4xI3hK833ot5",
        "outputId": "5ec10618-adc1-4ded-9769-9d569dbfd0da"
      },
      "source": [
        "kwargs = {'num_workers': 5, 'pin_memory': True} if use_cuda else {}\r\n",
        "train_loader = torch.utils.data.DataLoader(\r\n",
        "    datasets.MNIST('data', train=True, download=True,\r\n",
        "                   transform=transforms.Compose([\r\n",
        "                       transforms.ToTensor(),\r\n",
        "                       transforms.Normalize((0.1307,), (0.3081,))\r\n",
        "                   ])),\r\n",
        "    batch_size=args[\"batch-size\"], shuffle=True, **kwargs)\r\n",
        "test_loader = torch.utils.data.DataLoader(\r\n",
        "    datasets.MNIST('data', train=False, transform=transforms.Compose([\r\n",
        "                       transforms.ToTensor(),\r\n",
        "                       transforms.Normalize((0.1307,), (0.3081,))\r\n",
        "                   ])),\r\n",
        "    batch_size=args[\"test-batch-size\"], shuffle=False, **kwargs)"
      ],
      "execution_count": null,
      "outputs": [
        {
          "output_type": "stream",
          "text": [
            "Downloading http://yann.lecun.com/exdb/mnist/train-images-idx3-ubyte.gz to data/MNIST/raw/train-images-idx3-ubyte.gz\n"
          ],
          "name": "stdout"
        },
        {
          "output_type": "display_data",
          "data": {
            "application/vnd.jupyter.widget-view+json": {
              "model_id": "f46a8feb078745c5a3fa534d14abdcac",
              "version_minor": 0,
              "version_major": 2
            },
            "text/plain": [
              "HBox(children=(FloatProgress(value=1.0, bar_style='info', max=1.0), HTML(value='')))"
            ]
          },
          "metadata": {
            "tags": []
          }
        },
        {
          "output_type": "stream",
          "text": [
            "Extracting data/MNIST/raw/train-images-idx3-ubyte.gz to data/MNIST/raw\n",
            "Downloading http://yann.lecun.com/exdb/mnist/train-labels-idx1-ubyte.gz to data/MNIST/raw/train-labels-idx1-ubyte.gz\n"
          ],
          "name": "stdout"
        },
        {
          "output_type": "display_data",
          "data": {
            "application/vnd.jupyter.widget-view+json": {
              "model_id": "d0cbec2e23be480aa6950d0c192010bd",
              "version_minor": 0,
              "version_major": 2
            },
            "text/plain": [
              "HBox(children=(FloatProgress(value=1.0, bar_style='info', max=1.0), HTML(value='')))"
            ]
          },
          "metadata": {
            "tags": []
          }
        },
        {
          "output_type": "stream",
          "text": [
            "Extracting data/MNIST/raw/train-labels-idx1-ubyte.gz to data/MNIST/raw\n",
            "Downloading http://yann.lecun.com/exdb/mnist/t10k-images-idx3-ubyte.gz to data/MNIST/raw/t10k-images-idx3-ubyte.gz\n"
          ],
          "name": "stdout"
        },
        {
          "output_type": "display_data",
          "data": {
            "application/vnd.jupyter.widget-view+json": {
              "model_id": "99cbbeae3a73430e856163b106bf399b",
              "version_minor": 0,
              "version_major": 2
            },
            "text/plain": [
              "HBox(children=(FloatProgress(value=1.0, bar_style='info', max=1.0), HTML(value='')))"
            ]
          },
          "metadata": {
            "tags": []
          }
        },
        {
          "output_type": "stream",
          "text": [
            "Extracting data/MNIST/raw/t10k-images-idx3-ubyte.gz to data/MNIST/raw\n",
            "Downloading http://yann.lecun.com/exdb/mnist/t10k-labels-idx1-ubyte.gz to data/MNIST/raw/t10k-labels-idx1-ubyte.gz\n"
          ],
          "name": "stdout"
        },
        {
          "output_type": "display_data",
          "data": {
            "application/vnd.jupyter.widget-view+json": {
              "model_id": "4ff1c1c5d5874ef8a0637a626eb305f7",
              "version_minor": 0,
              "version_major": 2
            },
            "text/plain": [
              "HBox(children=(FloatProgress(value=1.0, bar_style='info', max=1.0), HTML(value='')))"
            ]
          },
          "metadata": {
            "tags": []
          }
        },
        {
          "output_type": "stream",
          "text": [
            "Extracting data/MNIST/raw/t10k-labels-idx1-ubyte.gz to data/MNIST/raw\n",
            "Processing...\n"
          ],
          "name": "stdout"
        },
        {
          "output_type": "stream",
          "text": [
            "/usr/local/lib/python3.6/dist-packages/torchvision/datasets/mnist.py:480: UserWarning: The given NumPy array is not writeable, and PyTorch does not support non-writeable tensors. This means you can write to the underlying (supposedly non-writeable) NumPy array using the tensor. You may want to copy the array to protect its data or make it writeable before converting it to a tensor. This type of warning will be suppressed for the rest of this program. (Triggered internally at  /pytorch/torch/csrc/utils/tensor_numpy.cpp:141.)\n",
            "  return torch.from_numpy(parsed.astype(m[2], copy=False)).view(*s)\n"
          ],
          "name": "stderr"
        },
        {
          "output_type": "stream",
          "text": [
            "Done!\n"
          ],
          "name": "stdout"
        }
      ]
    },
    {
      "cell_type": "code",
      "metadata": {
        "id": "NhxRgJot41kO",
        "colab": {
          "base_uri": "https://localhost:8080/"
        },
        "outputId": "3a7d52b9-ea71-4024-c66f-8a613654f8e4"
      },
      "source": [
        "class PruningModule(Module):\r\n",
        "    def prune_by_percentile(self, q=5.0, **kwargs):\r\n",
        "        # Calculate percentile value\r\n",
        "        alive_parameters = []\r\n",
        "        for name, p in self.named_parameters():\r\n",
        "            if 'bias' in name or 'mask' in name:\r\n",
        "                continue\r\n",
        "            tensor = p.data.cpu().numpy()\r\n",
        "            alive = tensor[np.nonzero(tensor)] # flattened array of nonzero values\r\n",
        "            alive_parameters.append(alive)\r\n",
        "\r\n",
        "        all_alives = np.concatenate(alive_parameters)\r\n",
        "        percentile_value = np.percentile(abs(all_alives), q)\r\n",
        "        print(f'Pruning with threshold : {percentile_value}')\r\n",
        "\r\n",
        "        for name, module in self.named_modules():\r\n",
        "            if name in ['fc1', 'fc2', 'fc3']:\r\n",
        "                module.prune(threshold=percentile_value)\r\n",
        "\r\n",
        "    def prune_by_std(self, s=0.25):\r\n",
        "        for name, module in self.named_modules():\r\n",
        "            if name in ['fc1', 'fc2', 'fc3']:\r\n",
        "                threshold = np.std(module.weight.data.cpu().numpy()) * s\r\n",
        "                print(f'Pruning with threshold : {threshold} for layer {name}')\r\n",
        "                module.prune(threshold)\r\n",
        "\r\n",
        "class MaskeL(Module):\r\n",
        "    def __init__(self, in_features, out_features, bias=True):\r\n",
        "        super(MaskeL, self).__init__()\r\n",
        "        self.in_features = in_features\r\n",
        "        self.out_features = out_features\r\n",
        "        self.weight = Parameter(torch.Tensor(out_features, in_features))\r\n",
        "        self.mask = Parameter(torch.ones([out_features, in_features]), requires_grad=False)\r\n",
        "        if bias:\r\n",
        "            self.bias = Parameter(torch.Tensor(out_features))\r\n",
        "        else:\r\n",
        "            self.register_parameter('bias', None)\r\n",
        "        self.reset_parameters()\r\n",
        "\r\n",
        "    def reset_parameters(self):\r\n",
        "        stdv = 1. / math.sqrt(self.weight.size(1))\r\n",
        "        self.weight.data.uniform_(-stdv, stdv)\r\n",
        "        if self.bias is not None:\r\n",
        "            self.bias.data.uniform_(-stdv, stdv)\r\n",
        "\r\n",
        "    def forward(self, input):\r\n",
        "        return F.linear(input, self.weight * self.mask, self.bias)\r\n",
        "\r\n",
        "    def __repr__(self):\r\n",
        "        return self.__class__.__name__ + '(' \\\r\n",
        "            + 'in_features=' + str(self.in_features) \\\r\n",
        "            + ', out_features=' + str(self.out_features) \\\r\n",
        "            + ', bias=' + str(self.bias is not None) + ')'\r\n",
        "\r\n",
        "    def prune(self, threshold):\r\n",
        "        weight_dev = self.weight.device\r\n",
        "        mask_dev = self.mask.device\r\n",
        "        tensor = self.weight.data.cpu().numpy()\r\n",
        "        mask = self.mask.data.cpu().numpy()\r\n",
        "        new_mask = np.where(abs(tensor) < threshold, 0, mask)\r\n",
        "        self.weight.data = torch.from_numpy(tensor * new_mask).to(weight_dev)\r\n",
        "        self.mask.data = torch.from_numpy(new_mask).to(mask_dev)\r\n"
      ],
      "execution_count": null,
      "outputs": [
        {
          "output_type": "stream",
          "text": [
            "\n",
            "\n",
            "\n"
          ],
          "name": "stdout"
        }
      ]
    },
    {
      "cell_type": "code",
      "metadata": {
        "id": "l8qkSBss7LTr"
      },
      "source": [
        "class LeNet(PruningModule):\r\n",
        "    def __init__(self, mask=False):\r\n",
        "        super(LeNet, self).__init__()\r\n",
        "        linear = MaskeL if mask else nn.Linear\r\n",
        "        self.fc1 = linear(784, 300)\r\n",
        "        self.fc2 = linear(300, 100)\r\n",
        "        self.fc3 = linear(100, 10)\r\n",
        "\r\n",
        "    def forward(self, x):\r\n",
        "        x = x.view(-1, 784)\r\n",
        "        x = F.relu(self.fc1(x))\r\n",
        "        x = F.relu(self.fc2(x))\r\n",
        "        x = F.log_softmax(self.fc3(x), dim=1)\r\n",
        "        return x"
      ],
      "execution_count": null,
      "outputs": []
    },
    {
      "cell_type": "code",
      "metadata": {
        "colab": {
          "base_uri": "https://localhost:8080/"
        },
        "id": "97LoM8bJ7Rdu",
        "outputId": "67f5b93b-de0d-4402-84a2-2930f19df850"
      },
      "source": [
        "model = LeNet(mask=True).to(device)\r\n",
        "print(model)"
      ],
      "execution_count": null,
      "outputs": [
        {
          "output_type": "stream",
          "text": [
            "LeNet(\n",
            "  (fc1): MaskeL(in_features=784, out_features=300, bias=True)\n",
            "  (fc2): MaskeL(in_features=300, out_features=100, bias=True)\n",
            "  (fc3): MaskeL(in_features=100, out_features=10, bias=True)\n",
            ")\n"
          ],
          "name": "stdout"
        }
      ]
    },
    {
      "cell_type": "code",
      "metadata": {
        "id": "fHxkULn-7U2E"
      },
      "source": [
        "optimizer = optim.Adam(model.parameters(), lr=args[\"lr\"], weight_decay=0.0001)\r\n",
        "initial_optimizer_state_dict = optimizer.state_dict()\r\n",
        "\r\n",
        "def train(epochs):\r\n",
        "    model.train()\r\n",
        "    for epoch in range(epochs):\r\n",
        "        pbar = tqdm(enumerate(train_loader), total=len(train_loader))\r\n",
        "        for batch_idx, (data, target) in pbar:\r\n",
        "            data, target = data.to(device), target.to(device)\r\n",
        "            optimizer.zero_grad()\r\n",
        "            output = model(data)\r\n",
        "            loss = F.nll_loss(output, target)\r\n",
        "            loss.backward()\r\n",
        "\r\n",
        "            for name, p in model.named_parameters():\r\n",
        "                if 'mask' in name:\r\n",
        "                    continue\r\n",
        "                tensor = p.data.cpu().numpy()\r\n",
        "                grad_data = p.grad.data.cpu().numpy()\r\n",
        "                grad_data = np.where(tensor==0, 0, grad_data)\r\n",
        "                p.grad.data = torch.from_numpy(grad_data).to(device)\r\n",
        "\r\n",
        "            optimizer.step()\r\n",
        "            if batch_idx % args[\"log-interval\"] == 0:\r\n",
        "                done = batch_idx * len(data)\r\n",
        "                percentage = 100. * batch_idx / len(train_loader)\r\n",
        "                pbar.set_description(f'Train Epoch: {epoch} Loss: {loss.item():.6f}')\r\n",
        "\r\n",
        "\r\n",
        "def test():\r\n",
        "    model.eval()\r\n",
        "    test_loss = 0\r\n",
        "    correct = 0\r\n",
        "    with torch.no_grad():\r\n",
        "        for data, target in test_loader:\r\n",
        "            data, target = data.to(device), target.to(device)\r\n",
        "            output = model(data)\r\n",
        "            test_loss += F.nll_loss(output, target, reduction='sum').item() # sum up batch loss\r\n",
        "            pred = output.data.max(1, keepdim=True)[1] \r\n",
        "            correct += pred.eq(target.data.view_as(pred)).sum().item()\r\n",
        "\r\n",
        "        test_loss /= len(test_loader.dataset)\r\n",
        "        accuracy = 100. * correct / len(test_loader.dataset)\r\n",
        "        print(f'Test : Average loss: {test_loss:.4f}, Accuracy: {correct}/{len(test_loader.dataset)} ({accuracy:.2f}%)')\r\n",
        "    return accuracy\r\n"
      ],
      "execution_count": null,
      "outputs": []
    },
    {
      "cell_type": "code",
      "metadata": {
        "colab": {
          "base_uri": "https://localhost:8080/",
          "height": 1000
        },
        "id": "NlvSeitu9Sqf",
        "outputId": "8f6bab23-cf16-4503-aecf-1c26dede4152"
      },
      "source": [
        "def log(filename, content):\r\n",
        "    with open(filename, 'a') as f:\r\n",
        "        content += \"\\n\"\r\n",
        "        f.write(content)\r\n",
        "\r\n",
        "train(args[\"epochs\"])\r\n",
        "accuracy = test()\r\n",
        "log(args[\"log\"], f\"initial_accuracy {accuracy}\")\r\n"
      ],
      "execution_count": null,
      "outputs": [
        {
          "output_type": "stream",
          "text": [
            "Train Epoch: 0 Loss: 0.110306: 100%|██████████| 1200/1200 [00:14<00:00, 80.61it/s]\n",
            "Train Epoch: 1 Loss: 0.182219: 100%|██████████| 1200/1200 [00:14<00:00, 82.79it/s]\n",
            "Train Epoch: 2 Loss: 0.370321: 100%|██████████| 1200/1200 [00:14<00:00, 80.22it/s]\n",
            "Train Epoch: 3 Loss: 0.475764: 100%|██████████| 1200/1200 [00:14<00:00, 82.83it/s]\n",
            "Train Epoch: 4 Loss: 0.120527: 100%|██████████| 1200/1200 [00:14<00:00, 81.23it/s]\n",
            "Train Epoch: 5 Loss: 0.317719: 100%|██████████| 1200/1200 [00:14<00:00, 82.60it/s]\n",
            "Train Epoch: 6 Loss: 0.347141: 100%|██████████| 1200/1200 [00:14<00:00, 81.67it/s]\n",
            "Train Epoch: 7 Loss: 0.059793: 100%|██████████| 1200/1200 [00:14<00:00, 82.61it/s]\n",
            "Train Epoch: 8 Loss: 0.166623: 100%|██████████| 1200/1200 [00:14<00:00, 82.15it/s]\n",
            "Train Epoch: 9 Loss: 0.117478: 100%|██████████| 1200/1200 [00:14<00:00, 81.32it/s]\n",
            "Train Epoch: 10 Loss: 0.107435: 100%|██████████| 1200/1200 [00:14<00:00, 81.82it/s]\n",
            "Train Epoch: 11 Loss: 0.120158: 100%|██████████| 1200/1200 [00:14<00:00, 81.07it/s]\n",
            "Train Epoch: 12 Loss: 0.315432: 100%|██████████| 1200/1200 [00:14<00:00, 81.90it/s]\n",
            "Train Epoch: 13 Loss: 0.122287: 100%|██████████| 1200/1200 [00:14<00:00, 83.20it/s]\n",
            "Train Epoch: 14 Loss: 0.208425: 100%|██████████| 1200/1200 [00:14<00:00, 83.53it/s]\n",
            "Train Epoch: 15 Loss: 0.125138: 100%|██████████| 1200/1200 [00:14<00:00, 83.58it/s]\n",
            "Train Epoch: 16 Loss: 0.199988: 100%|██████████| 1200/1200 [00:14<00:00, 82.60it/s]\n",
            "Train Epoch: 17 Loss: 0.356844: 100%|██████████| 1200/1200 [00:14<00:00, 82.24it/s]\n",
            "Train Epoch: 18 Loss: 0.156688: 100%|██████████| 1200/1200 [00:14<00:00, 81.28it/s]\n",
            "Train Epoch: 19 Loss: 0.214954: 100%|██████████| 1200/1200 [00:14<00:00, 81.29it/s]\n",
            "Train Epoch: 20 Loss: 0.077473: 100%|██████████| 1200/1200 [00:14<00:00, 80.50it/s]\n",
            "Train Epoch: 21 Loss: 0.179580: 100%|██████████| 1200/1200 [00:14<00:00, 80.53it/s]\n",
            "Train Epoch: 22 Loss: 0.340683: 100%|██████████| 1200/1200 [00:15<00:00, 79.66it/s]\n",
            "Train Epoch: 23 Loss: 0.113289: 100%|██████████| 1200/1200 [00:15<00:00, 77.87it/s]\n",
            "Train Epoch: 24 Loss: 0.124415: 100%|██████████| 1200/1200 [00:14<00:00, 80.06it/s]\n",
            "Train Epoch: 25 Loss: 0.204723: 100%|██████████| 1200/1200 [00:14<00:00, 80.06it/s]\n",
            "Train Epoch: 26 Loss: 0.200540: 100%|██████████| 1200/1200 [00:15<00:00, 79.41it/s]\n",
            "Train Epoch: 27 Loss: 0.055752: 100%|██████████| 1200/1200 [00:15<00:00, 79.20it/s]\n",
            "Train Epoch: 28 Loss: 0.032580: 100%|██████████| 1200/1200 [00:15<00:00, 80.00it/s]\n",
            "Train Epoch: 29 Loss: 0.111778: 100%|██████████| 1200/1200 [00:14<00:00, 80.13it/s]\n",
            "Train Epoch: 30 Loss: 0.082343: 100%|██████████| 1200/1200 [00:15<00:00, 79.32it/s]\n",
            "Train Epoch: 31 Loss: 0.042864: 100%|██████████| 1200/1200 [00:15<00:00, 79.98it/s]\n",
            "Train Epoch: 32 Loss: 0.094342: 100%|██████████| 1200/1200 [00:15<00:00, 79.23it/s]\n",
            "Train Epoch: 33 Loss: 0.156048: 100%|██████████| 1200/1200 [00:15<00:00, 78.44it/s]\n",
            "Train Epoch: 34 Loss: 0.106193: 100%|██████████| 1200/1200 [00:15<00:00, 79.87it/s]\n",
            "Train Epoch: 35 Loss: 0.184940: 100%|██████████| 1200/1200 [00:15<00:00, 79.97it/s]\n",
            "Train Epoch: 36 Loss: 0.268882: 100%|██████████| 1200/1200 [00:15<00:00, 79.89it/s]\n",
            "Train Epoch: 37 Loss: 0.122986: 100%|██████████| 1200/1200 [00:15<00:00, 79.15it/s]\n",
            "Train Epoch: 38 Loss: 0.162422: 100%|██████████| 1200/1200 [00:15<00:00, 78.61it/s]\n",
            "Train Epoch: 39 Loss: 0.158670: 100%|██████████| 1200/1200 [00:15<00:00, 79.01it/s]\n",
            "Train Epoch: 40 Loss: 0.095435: 100%|██████████| 1200/1200 [00:15<00:00, 79.15it/s]\n",
            "Train Epoch: 41 Loss: 0.307955: 100%|██████████| 1200/1200 [00:15<00:00, 79.71it/s]\n",
            "Train Epoch: 42 Loss: 0.130912: 100%|██████████| 1200/1200 [00:15<00:00, 79.37it/s]\n",
            "Train Epoch: 43 Loss: 0.253484: 100%|██████████| 1200/1200 [00:15<00:00, 77.33it/s]\n",
            "Train Epoch: 44 Loss: 0.213149: 100%|██████████| 1200/1200 [00:15<00:00, 79.12it/s]\n",
            "Train Epoch: 45 Loss: 0.152532: 100%|██████████| 1200/1200 [00:15<00:00, 79.89it/s]\n",
            "Train Epoch: 46 Loss: 0.043690: 100%|██████████| 1200/1200 [00:15<00:00, 79.56it/s]\n",
            "Train Epoch: 47 Loss: 0.068128: 100%|██████████| 1200/1200 [00:15<00:00, 79.51it/s]\n",
            "Train Epoch: 48 Loss: 0.152115: 100%|██████████| 1200/1200 [00:15<00:00, 78.52it/s]\n",
            "Train Epoch: 49 Loss: 0.179664: 100%|██████████| 1200/1200 [00:15<00:00, 79.01it/s]\n",
            "Train Epoch: 50 Loss: 0.336672: 100%|██████████| 1200/1200 [00:15<00:00, 79.38it/s]\n",
            "Train Epoch: 51 Loss: 0.075366: 100%|██████████| 1200/1200 [00:15<00:00, 78.89it/s]\n",
            "Train Epoch: 52 Loss: 0.231326: 100%|██████████| 1200/1200 [00:15<00:00, 77.79it/s]\n",
            "Train Epoch: 53 Loss: 0.102030: 100%|██████████| 1200/1200 [00:15<00:00, 77.85it/s]\n",
            "Train Epoch: 54 Loss: 0.200131: 100%|██████████| 1200/1200 [00:15<00:00, 78.27it/s]\n",
            "Train Epoch: 55 Loss: 0.311609: 100%|██████████| 1200/1200 [00:15<00:00, 79.74it/s]\n",
            "Train Epoch: 56 Loss: 0.372277: 100%|██████████| 1200/1200 [00:15<00:00, 78.47it/s]\n",
            "Train Epoch: 57 Loss: 0.262988: 100%|██████████| 1200/1200 [00:15<00:00, 79.35it/s]\n",
            "Train Epoch: 58 Loss: 0.286744: 100%|██████████| 1200/1200 [00:15<00:00, 78.52it/s]\n",
            "Train Epoch: 59 Loss: 0.370997: 100%|██████████| 1200/1200 [00:15<00:00, 78.79it/s]\n",
            "Train Epoch: 60 Loss: 0.107638: 100%|██████████| 1200/1200 [00:15<00:00, 79.69it/s]\n",
            "Train Epoch: 61 Loss: 0.312833: 100%|██████████| 1200/1200 [00:15<00:00, 79.54it/s]\n",
            "Train Epoch: 62 Loss: 0.061368: 100%|██████████| 1200/1200 [00:15<00:00, 79.27it/s]\n",
            "Train Epoch: 63 Loss: 0.450911: 100%|██████████| 1200/1200 [00:15<00:00, 77.83it/s]\n",
            "Train Epoch: 64 Loss: 0.087272: 100%|██████████| 1200/1200 [00:15<00:00, 79.38it/s]\n",
            "Train Epoch: 65 Loss: 0.260861: 100%|██████████| 1200/1200 [00:14<00:00, 81.29it/s]\n",
            "Train Epoch: 66 Loss: 0.311934: 100%|██████████| 1200/1200 [00:14<00:00, 81.18it/s]\n",
            "Train Epoch: 67 Loss: 0.227267: 100%|██████████| 1200/1200 [00:14<00:00, 81.87it/s]\n",
            "Train Epoch: 68 Loss: 0.226694: 100%|██████████| 1200/1200 [00:14<00:00, 82.53it/s]\n",
            "Train Epoch: 69 Loss: 0.032654: 100%|██████████| 1200/1200 [00:14<00:00, 82.04it/s]\n",
            "Train Epoch: 70 Loss: 0.096621: 100%|██████████| 1200/1200 [00:14<00:00, 81.61it/s]\n",
            "Train Epoch: 71 Loss: 0.026024: 100%|██████████| 1200/1200 [00:14<00:00, 81.36it/s]\n",
            "Train Epoch: 72 Loss: 0.145095: 100%|██████████| 1200/1200 [00:14<00:00, 82.36it/s]\n",
            "Train Epoch: 73 Loss: 0.144120: 100%|██████████| 1200/1200 [00:14<00:00, 82.06it/s]\n",
            "Train Epoch: 74 Loss: 0.108552: 100%|██████████| 1200/1200 [00:14<00:00, 81.90it/s]\n",
            "Train Epoch: 75 Loss: 0.099131: 100%|██████████| 1200/1200 [00:14<00:00, 80.96it/s]\n",
            "Train Epoch: 76 Loss: 0.085401: 100%|██████████| 1200/1200 [00:14<00:00, 82.02it/s]\n",
            "Train Epoch: 77 Loss: 0.082824: 100%|██████████| 1200/1200 [00:14<00:00, 81.54it/s]\n",
            "Train Epoch: 78 Loss: 0.047240: 100%|██████████| 1200/1200 [00:14<00:00, 80.89it/s]\n",
            "Train Epoch: 79 Loss: 0.125619: 100%|██████████| 1200/1200 [00:14<00:00, 81.35it/s]\n",
            "Train Epoch: 80 Loss: 0.151508: 100%|██████████| 1200/1200 [00:14<00:00, 81.19it/s]\n",
            "Train Epoch: 81 Loss: 0.077106: 100%|██████████| 1200/1200 [00:14<00:00, 81.87it/s]\n",
            "Train Epoch: 82 Loss: 0.402181: 100%|██████████| 1200/1200 [00:14<00:00, 81.42it/s]\n",
            "Train Epoch: 83 Loss: 0.283474: 100%|██████████| 1200/1200 [00:14<00:00, 82.06it/s]\n",
            "Train Epoch: 84 Loss: 0.255581: 100%|██████████| 1200/1200 [00:14<00:00, 80.35it/s]\n",
            "Train Epoch: 85 Loss: 0.498800: 100%|██████████| 1200/1200 [00:14<00:00, 81.88it/s]\n",
            "Train Epoch: 86 Loss: 0.057536: 100%|██████████| 1200/1200 [00:14<00:00, 80.69it/s]\n",
            "Train Epoch: 87 Loss: 0.109735: 100%|██████████| 1200/1200 [00:14<00:00, 81.97it/s]\n",
            "Train Epoch: 88 Loss: 0.061176: 100%|██████████| 1200/1200 [00:14<00:00, 82.13it/s]\n",
            "Train Epoch: 89 Loss: 0.158380: 100%|██████████| 1200/1200 [00:14<00:00, 83.27it/s]\n",
            "Train Epoch: 90 Loss: 0.319675: 100%|██████████| 1200/1200 [00:14<00:00, 82.33it/s]\n",
            "Train Epoch: 91 Loss: 0.102569: 100%|██████████| 1200/1200 [00:14<00:00, 81.06it/s]\n",
            "Train Epoch: 92 Loss: 0.186694: 100%|██████████| 1200/1200 [00:14<00:00, 80.03it/s]\n",
            "Train Epoch: 93 Loss: 0.117000: 100%|██████████| 1200/1200 [00:14<00:00, 80.78it/s]\n",
            "Train Epoch: 94 Loss: 0.071377: 100%|██████████| 1200/1200 [00:15<00:00, 79.86it/s]\n",
            "Train Epoch: 95 Loss: 0.018814: 100%|██████████| 1200/1200 [00:14<00:00, 80.18it/s]\n",
            "Train Epoch: 96 Loss: 0.042739: 100%|██████████| 1200/1200 [00:14<00:00, 80.13it/s]\n",
            "Train Epoch: 97 Loss: 0.100589: 100%|██████████| 1200/1200 [00:14<00:00, 80.05it/s]\n",
            "Train Epoch: 98 Loss: 0.392551: 100%|██████████| 1200/1200 [00:14<00:00, 80.64it/s]\n",
            "Train Epoch: 99 Loss: 0.370974: 100%|██████████| 1200/1200 [00:15<00:00, 79.63it/s]\n"
          ],
          "name": "stderr"
        },
        {
          "output_type": "stream",
          "text": [
            "Test : Average loss: 0.2106, Accuracy: 9477/10000 (94.77%)\n"
          ],
          "name": "stdout"
        },
        {
          "output_type": "error",
          "ename": "FileNotFoundError",
          "evalue": "ignored",
          "traceback": [
            "\u001b[0;31m---------------------------------------------------------------------------\u001b[0m",
            "\u001b[0;31mFileNotFoundError\u001b[0m                         Traceback (most recent call last)",
            "\u001b[0;32m<ipython-input-11-7aab96955c46>\u001b[0m in \u001b[0;36m<module>\u001b[0;34m()\u001b[0m\n\u001b[1;32m      7\u001b[0m \u001b[0maccuracy\u001b[0m \u001b[0;34m=\u001b[0m \u001b[0mtest\u001b[0m\u001b[0;34m(\u001b[0m\u001b[0;34m)\u001b[0m\u001b[0;34m\u001b[0m\u001b[0;34m\u001b[0m\u001b[0m\n\u001b[1;32m      8\u001b[0m \u001b[0mlog\u001b[0m\u001b[0;34m(\u001b[0m\u001b[0margs\u001b[0m\u001b[0;34m[\u001b[0m\u001b[0;34m\"log\"\u001b[0m\u001b[0;34m]\u001b[0m\u001b[0;34m,\u001b[0m \u001b[0;34mf\"initial_accuracy {accuracy}\"\u001b[0m\u001b[0;34m)\u001b[0m\u001b[0;34m\u001b[0m\u001b[0;34m\u001b[0m\u001b[0m\n\u001b[0;32m----> 9\u001b[0;31m \u001b[0mtorch\u001b[0m\u001b[0;34m.\u001b[0m\u001b[0msave\u001b[0m\u001b[0;34m(\u001b[0m\u001b[0mmodel\u001b[0m\u001b[0;34m,\u001b[0m \u001b[0;34mf\"saves/initial_model.ptmodel\"\u001b[0m\u001b[0;34m)\u001b[0m\u001b[0;34m\u001b[0m\u001b[0;34m\u001b[0m\u001b[0m\n\u001b[0m",
            "\u001b[0;32m/usr/local/lib/python3.6/dist-packages/torch/serialization.py\u001b[0m in \u001b[0;36msave\u001b[0;34m(obj, f, pickle_module, pickle_protocol, _use_new_zipfile_serialization)\u001b[0m\n\u001b[1;32m    367\u001b[0m     \u001b[0m_check_dill_version\u001b[0m\u001b[0;34m(\u001b[0m\u001b[0mpickle_module\u001b[0m\u001b[0;34m)\u001b[0m\u001b[0;34m\u001b[0m\u001b[0;34m\u001b[0m\u001b[0m\n\u001b[1;32m    368\u001b[0m \u001b[0;34m\u001b[0m\u001b[0m\n\u001b[0;32m--> 369\u001b[0;31m     \u001b[0;32mwith\u001b[0m \u001b[0m_open_file_like\u001b[0m\u001b[0;34m(\u001b[0m\u001b[0mf\u001b[0m\u001b[0;34m,\u001b[0m \u001b[0;34m'wb'\u001b[0m\u001b[0;34m)\u001b[0m \u001b[0;32mas\u001b[0m \u001b[0mopened_file\u001b[0m\u001b[0;34m:\u001b[0m\u001b[0;34m\u001b[0m\u001b[0;34m\u001b[0m\u001b[0m\n\u001b[0m\u001b[1;32m    370\u001b[0m         \u001b[0;32mif\u001b[0m \u001b[0m_use_new_zipfile_serialization\u001b[0m\u001b[0;34m:\u001b[0m\u001b[0;34m\u001b[0m\u001b[0;34m\u001b[0m\u001b[0m\n\u001b[1;32m    371\u001b[0m             \u001b[0;32mwith\u001b[0m \u001b[0m_open_zipfile_writer\u001b[0m\u001b[0;34m(\u001b[0m\u001b[0mopened_file\u001b[0m\u001b[0;34m)\u001b[0m \u001b[0;32mas\u001b[0m \u001b[0mopened_zipfile\u001b[0m\u001b[0;34m:\u001b[0m\u001b[0;34m\u001b[0m\u001b[0;34m\u001b[0m\u001b[0m\n",
            "\u001b[0;32m/usr/local/lib/python3.6/dist-packages/torch/serialization.py\u001b[0m in \u001b[0;36m_open_file_like\u001b[0;34m(name_or_buffer, mode)\u001b[0m\n\u001b[1;32m    228\u001b[0m \u001b[0;32mdef\u001b[0m \u001b[0m_open_file_like\u001b[0m\u001b[0;34m(\u001b[0m\u001b[0mname_or_buffer\u001b[0m\u001b[0;34m,\u001b[0m \u001b[0mmode\u001b[0m\u001b[0;34m)\u001b[0m\u001b[0;34m:\u001b[0m\u001b[0;34m\u001b[0m\u001b[0;34m\u001b[0m\u001b[0m\n\u001b[1;32m    229\u001b[0m     \u001b[0;32mif\u001b[0m \u001b[0m_is_path\u001b[0m\u001b[0;34m(\u001b[0m\u001b[0mname_or_buffer\u001b[0m\u001b[0;34m)\u001b[0m\u001b[0;34m:\u001b[0m\u001b[0;34m\u001b[0m\u001b[0;34m\u001b[0m\u001b[0m\n\u001b[0;32m--> 230\u001b[0;31m         \u001b[0;32mreturn\u001b[0m \u001b[0m_open_file\u001b[0m\u001b[0;34m(\u001b[0m\u001b[0mname_or_buffer\u001b[0m\u001b[0;34m,\u001b[0m \u001b[0mmode\u001b[0m\u001b[0;34m)\u001b[0m\u001b[0;34m\u001b[0m\u001b[0;34m\u001b[0m\u001b[0m\n\u001b[0m\u001b[1;32m    231\u001b[0m     \u001b[0;32melse\u001b[0m\u001b[0;34m:\u001b[0m\u001b[0;34m\u001b[0m\u001b[0;34m\u001b[0m\u001b[0m\n\u001b[1;32m    232\u001b[0m         \u001b[0;32mif\u001b[0m \u001b[0;34m'w'\u001b[0m \u001b[0;32min\u001b[0m \u001b[0mmode\u001b[0m\u001b[0;34m:\u001b[0m\u001b[0;34m\u001b[0m\u001b[0;34m\u001b[0m\u001b[0m\n",
            "\u001b[0;32m/usr/local/lib/python3.6/dist-packages/torch/serialization.py\u001b[0m in \u001b[0;36m__init__\u001b[0;34m(self, name, mode)\u001b[0m\n\u001b[1;32m    209\u001b[0m \u001b[0;32mclass\u001b[0m \u001b[0m_open_file\u001b[0m\u001b[0;34m(\u001b[0m\u001b[0m_opener\u001b[0m\u001b[0;34m)\u001b[0m\u001b[0;34m:\u001b[0m\u001b[0;34m\u001b[0m\u001b[0;34m\u001b[0m\u001b[0m\n\u001b[1;32m    210\u001b[0m     \u001b[0;32mdef\u001b[0m \u001b[0m__init__\u001b[0m\u001b[0;34m(\u001b[0m\u001b[0mself\u001b[0m\u001b[0;34m,\u001b[0m \u001b[0mname\u001b[0m\u001b[0;34m,\u001b[0m \u001b[0mmode\u001b[0m\u001b[0;34m)\u001b[0m\u001b[0;34m:\u001b[0m\u001b[0;34m\u001b[0m\u001b[0;34m\u001b[0m\u001b[0m\n\u001b[0;32m--> 211\u001b[0;31m         \u001b[0msuper\u001b[0m\u001b[0;34m(\u001b[0m\u001b[0m_open_file\u001b[0m\u001b[0;34m,\u001b[0m \u001b[0mself\u001b[0m\u001b[0;34m)\u001b[0m\u001b[0;34m.\u001b[0m\u001b[0m__init__\u001b[0m\u001b[0;34m(\u001b[0m\u001b[0mopen\u001b[0m\u001b[0;34m(\u001b[0m\u001b[0mname\u001b[0m\u001b[0;34m,\u001b[0m \u001b[0mmode\u001b[0m\u001b[0;34m)\u001b[0m\u001b[0;34m)\u001b[0m\u001b[0;34m\u001b[0m\u001b[0;34m\u001b[0m\u001b[0m\n\u001b[0m\u001b[1;32m    212\u001b[0m \u001b[0;34m\u001b[0m\u001b[0m\n\u001b[1;32m    213\u001b[0m     \u001b[0;32mdef\u001b[0m \u001b[0m__exit__\u001b[0m\u001b[0;34m(\u001b[0m\u001b[0mself\u001b[0m\u001b[0;34m,\u001b[0m \u001b[0;34m*\u001b[0m\u001b[0margs\u001b[0m\u001b[0;34m)\u001b[0m\u001b[0;34m:\u001b[0m\u001b[0;34m\u001b[0m\u001b[0;34m\u001b[0m\u001b[0m\n",
            "\u001b[0;31mFileNotFoundError\u001b[0m: [Errno 2] No such file or directory: 'saves/initial_model.ptmodel'"
          ]
        }
      ]
    },
    {
      "cell_type": "code",
      "metadata": {
        "colab": {
          "base_uri": "https://localhost:8080/"
        },
        "id": "4JO-c8Ps-j7X",
        "outputId": "bee50336-3b4a-4fa0-d0c0-6c0bb1d71b64"
      },
      "source": [
        "os.mkdir('saves')\r\n",
        "torch.save(model, f\"saves/initial_model.ptmodel\")\r\n",
        "print(\"--- With pruning ---\")\r\n",
        "model.prune_by_std(args[\"sensitivity\"])\r\n",
        "accuracy = test()\r\n",
        "log(args[\"log\"], f\"accuracy_after_pruning {accuracy}\")"
      ],
      "execution_count": null,
      "outputs": [
        {
          "output_type": "stream",
          "text": [
            "--- With pruning ---\n",
            "Pruning with threshold : 0.2341970056295395 for layer fc1\n",
            "Pruning with threshold : 0.1945437341928482 for layer fc2\n",
            "Pruning with threshold : 0.21063780784606934 for layer fc3\n",
            "Test : Average loss: 1.1871, Accuracy: 7056/10000 (70.56%)\n"
          ],
          "name": "stdout"
        }
      ]
    },
    {
      "cell_type": "code",
      "metadata": {
        "id": "uNsjHZaI_uiC",
        "colab": {
          "base_uri": "https://localhost:8080/",
          "height": 1000
        },
        "outputId": "0667e400-ca62-45ef-a4c3-e9e40bd97f79"
      },
      "source": [
        "print(\"--- Retraining ---\")\r\n",
        "optimizer.load_state_dict(initial_optimizer_state_dict) \r\n",
        "train(args[\"epochs\"])\r\n",
        "torch.save(model, f\"saves/model_after_retraining.ptmodel\")\r\n",
        "accuracy = test()"
      ],
      "execution_count": null,
      "outputs": [
        {
          "output_type": "stream",
          "text": [
            "--- Retraining ---\n"
          ],
          "name": "stdout"
        },
        {
          "output_type": "stream",
          "text": [
            "Train Epoch: 0 Loss: 0.041789: 100%|██████████| 1200/1200 [00:15<00:00, 79.44it/s]\n",
            "Train Epoch: 1 Loss: 0.083689: 100%|██████████| 1200/1200 [00:14<00:00, 80.24it/s]\n",
            "Train Epoch: 2 Loss: 0.117890: 100%|██████████| 1200/1200 [00:15<00:00, 78.61it/s]\n",
            "Train Epoch: 3 Loss: 0.237558: 100%|██████████| 1200/1200 [00:15<00:00, 79.45it/s]\n",
            "Train Epoch: 4 Loss: 0.045141: 100%|██████████| 1200/1200 [00:15<00:00, 78.65it/s]\n",
            "Train Epoch: 5 Loss: 0.097599: 100%|██████████| 1200/1200 [00:15<00:00, 79.49it/s]\n",
            "Train Epoch: 6 Loss: 0.067162: 100%|██████████| 1200/1200 [00:15<00:00, 78.55it/s]\n",
            "Train Epoch: 7 Loss: 0.078319: 100%|██████████| 1200/1200 [00:15<00:00, 79.34it/s]\n",
            "Train Epoch: 8 Loss: 0.026370: 100%|██████████| 1200/1200 [00:15<00:00, 78.64it/s]\n",
            "Train Epoch: 9 Loss: 0.114019: 100%|██████████| 1200/1200 [00:15<00:00, 78.20it/s]\n",
            "Train Epoch: 10 Loss: 0.063769: 100%|██████████| 1200/1200 [00:15<00:00, 77.46it/s]\n",
            "Train Epoch: 11 Loss: 0.071750: 100%|██████████| 1200/1200 [00:15<00:00, 79.53it/s]\n",
            "Train Epoch: 12 Loss: 0.085068: 100%|██████████| 1200/1200 [00:15<00:00, 79.53it/s]\n",
            "Train Epoch: 13 Loss: 0.091394: 100%|██████████| 1200/1200 [00:15<00:00, 78.84it/s]\n",
            "Train Epoch: 14 Loss: 0.028907: 100%|██████████| 1200/1200 [00:15<00:00, 78.14it/s]\n",
            "Train Epoch: 15 Loss: 0.115059: 100%|██████████| 1200/1200 [00:15<00:00, 78.33it/s]\n",
            "Train Epoch: 16 Loss: 0.207382: 100%|██████████| 1200/1200 [00:15<00:00, 78.70it/s]\n",
            "Train Epoch: 17 Loss: 0.069481: 100%|██████████| 1200/1200 [00:15<00:00, 77.87it/s]\n",
            "Train Epoch: 18 Loss: 0.114046: 100%|██████████| 1200/1200 [00:15<00:00, 78.48it/s]\n",
            "Train Epoch: 19 Loss: 0.041989: 100%|██████████| 1200/1200 [00:15<00:00, 78.63it/s]\n",
            "Train Epoch: 20 Loss: 0.257160: 100%|██████████| 1200/1200 [00:15<00:00, 78.09it/s]\n",
            "Train Epoch: 21 Loss: 0.193567: 100%|██████████| 1200/1200 [00:15<00:00, 79.32it/s]\n",
            "Train Epoch: 22 Loss: 0.063317: 100%|██████████| 1200/1200 [00:15<00:00, 79.60it/s]\n",
            "Train Epoch: 23 Loss: 0.025530: 100%|██████████| 1200/1200 [00:15<00:00, 79.24it/s]\n",
            "Train Epoch: 24 Loss: 0.065236: 100%|██████████| 1200/1200 [00:15<00:00, 79.02it/s]\n",
            "Train Epoch: 25 Loss: 0.099854: 100%|██████████| 1200/1200 [00:15<00:00, 78.85it/s]\n",
            "Train Epoch: 26 Loss: 0.060063: 100%|██████████| 1200/1200 [00:15<00:00, 78.95it/s]\n",
            "Train Epoch: 27 Loss: 0.062757: 100%|██████████| 1200/1200 [00:15<00:00, 78.66it/s]\n",
            "Train Epoch: 28 Loss: 0.285423: 100%|██████████| 1200/1200 [00:15<00:00, 79.96it/s]\n",
            "Train Epoch: 29 Loss: 0.071562: 100%|██████████| 1200/1200 [00:15<00:00, 79.51it/s]\n",
            "Train Epoch: 30 Loss: 0.130023: 100%|██████████| 1200/1200 [00:15<00:00, 78.48it/s]\n",
            "Train Epoch: 31 Loss: 0.045594: 100%|██████████| 1200/1200 [00:15<00:00, 79.49it/s]\n",
            "Train Epoch: 32 Loss: 0.075709: 100%|██████████| 1200/1200 [00:15<00:00, 79.28it/s]\n",
            "Train Epoch: 33 Loss: 0.039637: 100%|██████████| 1200/1200 [00:15<00:00, 78.60it/s]\n",
            "Train Epoch: 34 Loss: 0.086282: 100%|██████████| 1200/1200 [00:15<00:00, 79.05it/s]\n",
            "Train Epoch: 35 Loss: 0.111778: 100%|██████████| 1200/1200 [00:15<00:00, 79.25it/s]\n",
            "Train Epoch: 36 Loss: 0.071889: 100%|██████████| 1200/1200 [00:15<00:00, 79.19it/s]\n",
            "Train Epoch: 37 Loss: 0.031247: 100%|██████████| 1200/1200 [00:15<00:00, 76.55it/s]\n",
            "Train Epoch: 38 Loss: 0.077400: 100%|██████████| 1200/1200 [00:15<00:00, 79.31it/s]\n",
            "Train Epoch: 39 Loss: 0.101225: 100%|██████████| 1200/1200 [00:15<00:00, 79.10it/s]\n",
            "Train Epoch: 40 Loss: 0.033137: 100%|██████████| 1200/1200 [00:15<00:00, 78.96it/s]\n",
            "Train Epoch: 41 Loss: 0.161757: 100%|██████████| 1200/1200 [00:15<00:00, 77.87it/s]\n",
            "Train Epoch: 42 Loss: 0.380670: 100%|██████████| 1200/1200 [00:15<00:00, 79.59it/s]\n",
            "Train Epoch: 43 Loss: 0.140116: 100%|██████████| 1200/1200 [00:15<00:00, 79.07it/s]\n",
            "Train Epoch: 44 Loss: 0.128667: 100%|██████████| 1200/1200 [00:15<00:00, 79.26it/s]\n",
            "Train Epoch: 45 Loss: 0.050093: 100%|██████████| 1200/1200 [00:15<00:00, 77.86it/s]\n",
            "Train Epoch: 46 Loss: 0.051960: 100%|██████████| 1200/1200 [00:15<00:00, 78.56it/s]\n",
            "Train Epoch: 47 Loss: 0.168042: 100%|██████████| 1200/1200 [00:15<00:00, 78.62it/s]\n",
            "Train Epoch: 48 Loss: 0.057161: 100%|██████████| 1200/1200 [00:15<00:00, 78.91it/s]\n",
            "Train Epoch: 49 Loss: 0.028845: 100%|██████████| 1200/1200 [00:15<00:00, 78.56it/s]\n",
            "Train Epoch: 50 Loss: 0.085843: 100%|██████████| 1200/1200 [00:15<00:00, 78.02it/s]\n",
            "Train Epoch: 51 Loss: 0.254001: 100%|██████████| 1200/1200 [00:15<00:00, 79.72it/s]\n",
            "Train Epoch: 52 Loss: 0.116336: 100%|██████████| 1200/1200 [00:15<00:00, 79.86it/s]\n",
            "Train Epoch: 53 Loss: 0.178418: 100%|██████████| 1200/1200 [00:15<00:00, 78.55it/s]\n",
            "Train Epoch: 54 Loss: 0.106507: 100%|██████████| 1200/1200 [00:15<00:00, 78.99it/s]\n",
            "Train Epoch: 55 Loss: 0.025382: 100%|██████████| 1200/1200 [00:15<00:00, 78.76it/s]\n",
            "Train Epoch: 56 Loss: 0.115340: 100%|██████████| 1200/1200 [00:15<00:00, 79.49it/s]\n",
            "Train Epoch: 57 Loss: 0.075902: 100%|██████████| 1200/1200 [00:15<00:00, 77.67it/s]\n",
            "Train Epoch: 58 Loss: 0.006116: 100%|██████████| 1200/1200 [00:15<00:00, 79.22it/s]\n",
            "Train Epoch: 59 Loss: 0.371461: 100%|██████████| 1200/1200 [00:15<00:00, 79.06it/s]\n",
            "Train Epoch: 60 Loss: 0.152240: 100%|██████████| 1200/1200 [00:15<00:00, 77.89it/s]\n",
            "Train Epoch: 61 Loss: 0.125766: 100%|██████████| 1200/1200 [00:15<00:00, 77.78it/s]\n",
            "Train Epoch: 62 Loss: 0.042000: 100%|██████████| 1200/1200 [00:15<00:00, 78.48it/s]\n",
            "Train Epoch: 63 Loss: 0.033395: 100%|██████████| 1200/1200 [00:15<00:00, 78.71it/s]\n",
            "Train Epoch: 64 Loss: 0.122867: 100%|██████████| 1200/1200 [00:15<00:00, 78.96it/s]\n",
            "Train Epoch: 65 Loss: 0.016433: 100%|██████████| 1200/1200 [00:15<00:00, 78.87it/s]\n",
            "Train Epoch: 66 Loss: 0.177042: 100%|██████████| 1200/1200 [00:15<00:00, 78.86it/s]\n",
            "Train Epoch: 67 Loss: 0.036829: 100%|██████████| 1200/1200 [00:15<00:00, 76.98it/s]\n",
            "Train Epoch: 68 Loss: 0.169226: 100%|██████████| 1200/1200 [00:15<00:00, 77.86it/s]\n",
            "Train Epoch: 69 Loss: 0.054047: 100%|██████████| 1200/1200 [00:15<00:00, 79.12it/s]\n",
            "Train Epoch: 70 Loss: 0.139595: 100%|██████████| 1200/1200 [00:15<00:00, 78.26it/s]\n",
            "Train Epoch: 71 Loss: 0.052416: 100%|██████████| 1200/1200 [00:15<00:00, 79.28it/s]\n",
            "Train Epoch: 72 Loss: 0.098177: 100%|██████████| 1200/1200 [00:15<00:00, 77.90it/s]\n",
            "Train Epoch: 73 Loss: 0.156192: 100%|██████████| 1200/1200 [00:15<00:00, 79.21it/s]\n",
            "Train Epoch: 74 Loss: 0.140930: 100%|██████████| 1200/1200 [00:15<00:00, 78.71it/s]\n",
            "Train Epoch: 75 Loss: 0.025685: 100%|██████████| 1200/1200 [00:15<00:00, 79.46it/s]\n",
            "Train Epoch: 76 Loss: 0.005180: 100%|██████████| 1200/1200 [00:15<00:00, 78.09it/s]\n",
            "Train Epoch: 77 Loss: 0.067970: 100%|██████████| 1200/1200 [00:15<00:00, 77.05it/s]\n",
            "Train Epoch: 78 Loss: 0.017251: 100%|██████████| 1200/1200 [00:15<00:00, 79.20it/s]\n",
            "Train Epoch: 79 Loss: 0.021845: 100%|██████████| 1200/1200 [00:15<00:00, 79.35it/s]\n",
            "Train Epoch: 80 Loss: 0.034866: 100%|██████████| 1200/1200 [00:15<00:00, 77.98it/s]\n",
            "Train Epoch: 81 Loss: 0.044660: 100%|██████████| 1200/1200 [00:15<00:00, 79.63it/s]\n",
            "Train Epoch: 82 Loss: 0.155839: 100%|██████████| 1200/1200 [00:15<00:00, 78.96it/s]\n",
            "Train Epoch: 83 Loss: 0.359184: 100%|██████████| 1200/1200 [00:15<00:00, 79.89it/s]\n",
            "Train Epoch: 84 Loss: 0.425429: 100%|██████████| 1200/1200 [00:15<00:00, 78.87it/s]\n",
            "Train Epoch: 85 Loss: 0.178694: 100%|██████████| 1200/1200 [00:15<00:00, 79.32it/s]\n",
            "Train Epoch: 86 Loss: 0.272502: 100%|██████████| 1200/1200 [00:15<00:00, 79.25it/s]\n",
            "Train Epoch: 87 Loss: 0.022033: 100%|██████████| 1200/1200 [00:15<00:00, 77.95it/s]\n",
            "Train Epoch: 88 Loss: 0.155362: 100%|██████████| 1200/1200 [00:15<00:00, 77.55it/s]\n",
            "Train Epoch: 89 Loss: 0.075212: 100%|██████████| 1200/1200 [00:15<00:00, 78.93it/s]\n",
            "Train Epoch: 90 Loss: 0.109150: 100%|██████████| 1200/1200 [00:15<00:00, 79.06it/s]\n",
            "Train Epoch: 91 Loss: 0.085603: 100%|██████████| 1200/1200 [00:15<00:00, 79.48it/s]\n",
            "Train Epoch: 92 Loss: 0.012987: 100%|██████████| 1200/1200 [00:15<00:00, 78.20it/s]\n",
            "Train Epoch: 93 Loss: 0.077322: 100%|██████████| 1200/1200 [00:15<00:00, 78.92it/s]\n",
            "Train Epoch: 94 Loss: 0.061140: 100%|██████████| 1200/1200 [00:15<00:00, 79.00it/s]\n",
            "Train Epoch: 95 Loss: 0.142249: 100%|██████████| 1200/1200 [00:15<00:00, 79.40it/s]\n",
            "Train Epoch: 96 Loss: 0.048922: 100%|██████████| 1200/1200 [00:15<00:00, 78.18it/s]\n",
            "Train Epoch: 97 Loss: 0.013553: 100%|██████████| 1200/1200 [00:15<00:00, 77.61it/s]\n",
            "Train Epoch: 98 Loss: 0.260989: 100%|██████████| 1200/1200 [00:15<00:00, 77.97it/s]\n",
            "Train Epoch: 99 Loss: 0.011631: 100%|██████████| 1200/1200 [00:15<00:00, 78.74it/s]\n"
          ],
          "name": "stderr"
        },
        {
          "output_type": "stream",
          "text": [
            "Test : Average loss: 0.1190, Accuracy: 9674/10000 (96.74%)\n"
          ],
          "name": "stdout"
        },
        {
          "output_type": "error",
          "ename": "AttributeError",
          "evalue": "ignored",
          "traceback": [
            "\u001b[0;31m---------------------------------------------------------------------------\u001b[0m",
            "\u001b[0;31mAttributeError\u001b[0m                            Traceback (most recent call last)",
            "\u001b[0;32m<ipython-input-13-47ebf536e848>\u001b[0m in \u001b[0;36m<module>\u001b[0;34m()\u001b[0m\n\u001b[1;32m      4\u001b[0m \u001b[0mtorch\u001b[0m\u001b[0;34m.\u001b[0m\u001b[0msave\u001b[0m\u001b[0;34m(\u001b[0m\u001b[0mmodel\u001b[0m\u001b[0;34m,\u001b[0m \u001b[0;34mf\"saves/model_after_retraining.ptmodel\"\u001b[0m\u001b[0;34m)\u001b[0m\u001b[0;34m\u001b[0m\u001b[0;34m\u001b[0m\u001b[0m\n\u001b[1;32m      5\u001b[0m \u001b[0maccuracy\u001b[0m \u001b[0;34m=\u001b[0m \u001b[0mtest\u001b[0m\u001b[0;34m(\u001b[0m\u001b[0;34m)\u001b[0m\u001b[0;34m\u001b[0m\u001b[0;34m\u001b[0m\u001b[0m\n\u001b[0;32m----> 6\u001b[0;31m \u001b[0mlog\u001b[0m\u001b[0;34m(\u001b[0m\u001b[0margs\u001b[0m\u001b[0;34m.\u001b[0m\u001b[0mlog\u001b[0m\u001b[0;34m,\u001b[0m \u001b[0;34mf\"accuracy_after_retraining {accuracy}\"\u001b[0m\u001b[0;34m)\u001b[0m\u001b[0;34m\u001b[0m\u001b[0;34m\u001b[0m\u001b[0m\n\u001b[0m",
            "\u001b[0;31mAttributeError\u001b[0m: 'dict' object has no attribute 'log'"
          ]
        }
      ]
    },
    {
      "cell_type": "code",
      "metadata": {
        "colab": {
          "base_uri": "https://localhost:8080/"
        },
        "id": "Q3HYyOb_AgkN",
        "outputId": "230a1c91-f60a-48b0-aa95-83064f4e2632"
      },
      "source": [
        "log(args[\"log\"], f\"accuracy_after_retraining {accuracy}\")\r\n",
        "def test(model, use_cuda=True):\r\n",
        "    kwargs = {'num_workers': 5, 'pin_memory': True} if use_cuda else {}\r\n",
        "    device = torch.device(\"cuda\" if use_cuda else 'cpu')\r\n",
        "    test_loader = torch.utils.data.DataLoader(\r\n",
        "    datasets.MNIST('data', train=False, transform=transforms.Compose([\r\n",
        "                       transforms.ToTensor(),\r\n",
        "                       transforms.Normalize((0.1307,), (0.3081,))\r\n",
        "                   ])),\r\n",
        "    batch_size=1000, shuffle=False, **kwargs)\r\n",
        "    model.eval()\r\n",
        "    test_loss = 0\r\n",
        "    correct = 0\r\n",
        "    with torch.no_grad():\r\n",
        "        for data, target in test_loader:\r\n",
        "            data, target = data.to(device), target.to(device)\r\n",
        "            output = model(data)\r\n",
        "            test_loss += F.nll_loss(output, target, reduction='sum').item() # sum up batch loss\r\n",
        "            pred = output.data.max(1, keepdim=True)[1] # get the index of the max log-probability\r\n",
        "            correct += pred.eq(target.data.view_as(pred)).sum().item()\r\n",
        "\r\n",
        "        test_loss /= len(test_loader.dataset)\r\n",
        "        accuracy = 100. * correct / len(test_loader.dataset)\r\n",
        "        print(f'Test set: Average loss: {test_loss:.4f}, Accuracy: {correct}/{len(test_loader.dataset)} ({accuracy:.2f}%)')\r\n",
        "    return accuracy\r\n",
        "\r\n",
        "#Weight sharing by KMeans Algorithm\r\n",
        "\r\n",
        "def weight_sharing(model, bits=5):\r\n",
        "  for module in model.children():\r\n",
        "    dev = module.weight.device\r\n",
        "    weight = module.weight.data.cpu().numpy()\r\n",
        "    shape = weight.shape\r\n",
        "    mat = csr_matrix(weight) if shape[0] < shape[1] else csc_matrix(weight)\r\n",
        "    min_ = min(mat.data)\r\n",
        "    max_ = max(mat.data)\r\n",
        "    space = np.linspace(min_, max_, num=2**bits)\r\n",
        "    kmeans = KMeans(n_clusters=len(space), init=space.reshape(-1,1), n_init=1, precompute_distances=True, algorithm=\"full\")\r\n",
        "    kmeans.fit(mat.data.reshape(-1,1))\r\n",
        "    new_weight = kmeans.cluster_centers_[kmeans.labels_].reshape(-1)\r\n",
        "    mat.data = new_weight\r\n",
        "    module.weight.data = torch.from_numpy(mat.toarray()).to(dev)\r\n",
        "\r\n",
        "!ls"
      ],
      "execution_count": null,
      "outputs": [
        {
          "output_type": "stream",
          "text": [
            "data  huffmancoding.py\tlog.txt  saves\n"
          ],
          "name": "stdout"
        }
      ]
    },
    {
      "cell_type": "code",
      "metadata": {
        "id": "LbOlVJo9Tqfr"
      },
      "source": [
        "model = torch.load(\"saves/model_after_retraining.ptmodel\")"
      ],
      "execution_count": null,
      "outputs": []
    },
    {
      "cell_type": "code",
      "metadata": {
        "id": "ZU39gcWQAW4u",
        "colab": {
          "base_uri": "https://localhost:8080/"
        },
        "outputId": "62324928-2950-4972-a37e-5f159b6bc515"
      },
      "source": [
        "print('accuracy before weight sharing')\r\n",
        "test(model, use_cuda)\r\n",
        "weight_sharing(model)\r\n",
        "print('accuacy after weight sharing')\r\n",
        "test(model, use_cuda)\r\n",
        "os.makedirs('saves', exist_ok=True)\r\n",
        "torch.save(model, f\"saves/model_after_weight_sharing.ptmodel\")"
      ],
      "execution_count": null,
      "outputs": [
        {
          "output_type": "stream",
          "text": [
            "accuracy before weight sharing\n",
            "Test set: Average loss: 0.1190, Accuracy: 9674/10000 (96.74%)\n",
            "accuacy after weight sharing\n",
            "Test set: Average loss: 0.1235, Accuracy: 9659/10000 (96.59%)\n"
          ],
          "name": "stdout"
        }
      ]
    },
    {
      "cell_type": "code",
      "metadata": {
        "id": "DHxYmtE5DxiX",
        "colab": {
          "base_uri": "https://localhost:8080/"
        },
        "outputId": "3c4ec67f-178d-4ef9-c990-4c1b5e326a70"
      },
      "source": [
        "model=torch.load(\"saves/model_after_weight_sharing.ptmodel\")\r\n",
        "from huffmancoding import huffman_encode_model\r\n",
        "huffman_encode_model(model)\r\n"
      ],
      "execution_count": null,
      "outputs": [
        {
          "output_type": "stream",
          "text": [
            "Layer           |   original compressed improvement percent\n",
            "----------------------------------------------------------------------\n",
            "fc1.weight      |      88164      21476       4.11x  24.36%\n",
            "fc1.bias        |       1200       1200       1.00x 100.00%\n",
            "fc2.weight      |      11692       3221       3.63x  27.55%\n",
            "fc2.bias        |        400        400       1.00x 100.00%\n",
            "fc3.weight      |        636        397       1.60x  62.42%\n",
            "fc3.bias        |         40         40       1.00x 100.00%\n",
            "----------------------------------------------------------------------\n",
            "total           |     102132      26734       3.82x  26.18%\n"
          ],
          "name": "stdout"
        }
      ]
    },
    {
      "cell_type": "code",
      "metadata": {
        "id": "flL1iGUgT3fH"
      },
      "source": [
        ""
      ],
      "execution_count": null,
      "outputs": []
    }
  ]
}